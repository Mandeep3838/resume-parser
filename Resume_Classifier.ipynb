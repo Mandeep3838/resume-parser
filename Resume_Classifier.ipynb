{
  "nbformat": 4,
  "nbformat_minor": 0,
  "metadata": {
    "colab": {
      "name": "Resume Classifier.ipynb",
      "provenance": [],
      "collapsed_sections": []
    },
    "kernelspec": {
      "name": "python3",
      "display_name": "Python 3"
    },
    "language_info": {
      "name": "python"
    }
  },
  "cells": [
    {
      "cell_type": "markdown",
      "metadata": {
        "id": "-FJlpoOHSz9n"
      },
      "source": [
        ""
      ]
    },
    {
      "cell_type": "code",
      "metadata": {
        "id": "kMFLFdftSvWo"
      },
      "source": [
        "import pandas as pd\n",
        "import numpy\n",
        "import nltk"
      ],
      "execution_count": null,
      "outputs": []
    },
    {
      "cell_type": "code",
      "metadata": {
        "colab": {
          "base_uri": "https://localhost:8080/"
        },
        "id": "74megL4ZS99D",
        "outputId": "892a99f9-4ec7-4d28-dff8-8fa6acc2adf9"
      },
      "source": [
        "dataset = pd.read_csv('Resume_data.csv')\n",
        "dataset.columns"
      ],
      "execution_count": null,
      "outputs": [
        {
          "output_type": "execute_result",
          "data": {
            "text/plain": [
              "Index(['file_name', 'name', 'email', 'phone_no', 'companies_worked', 'skills',\n",
              "       'college', 'experience', 'designition'],\n",
              "      dtype='object')"
            ]
          },
          "metadata": {
            "tags": []
          },
          "execution_count": 3
        }
      ]
    },
    {
      "cell_type": "code",
      "metadata": {
        "colab": {
          "base_uri": "https://localhost:8080/",
          "height": 725
        },
        "id": "ZNULZqNemkdq",
        "outputId": "69eac8e1-8804-4023-c7a1-6550589d36df"
      },
      "source": [
        "dataset"
      ],
      "execution_count": null,
      "outputs": [
        {
          "output_type": "execute_result",
          "data": {
            "text/html": [
              "<div>\n",
              "<style scoped>\n",
              "    .dataframe tbody tr th:only-of-type {\n",
              "        vertical-align: middle;\n",
              "    }\n",
              "\n",
              "    .dataframe tbody tr th {\n",
              "        vertical-align: top;\n",
              "    }\n",
              "\n",
              "    .dataframe thead th {\n",
              "        text-align: right;\n",
              "    }\n",
              "</style>\n",
              "<table border=\"1\" class=\"dataframe\">\n",
              "  <thead>\n",
              "    <tr style=\"text-align: right;\">\n",
              "      <th></th>\n",
              "      <th>file_name</th>\n",
              "      <th>name</th>\n",
              "      <th>email</th>\n",
              "      <th>phone_no</th>\n",
              "      <th>companies_worked</th>\n",
              "      <th>skills</th>\n",
              "      <th>college</th>\n",
              "      <th>experience</th>\n",
              "      <th>designition</th>\n",
              "    </tr>\n",
              "  </thead>\n",
              "  <tbody>\n",
              "    <tr>\n",
              "      <th>0</th>\n",
              "      <td>Mani_Hadoop</td>\n",
              "      <td>mani sr</td>\n",
              "      <td>vmaniv08@gmail.com</td>\n",
              "      <td>(615) 813-1551</td>\n",
              "      <td>['amazon aws', 'oracle', 'amazon']</td>\n",
              "      <td>[':', 'big data technologies', 'hadoop', ' hdf...</td>\n",
              "      <td>['national institute of technology, rourkela']</td>\n",
              "      <td>5.0</td>\n",
              "      <td>['hadoop developer', 'zookeeper', 'research sc...</td>\n",
              "    </tr>\n",
              "    <tr>\n",
              "      <th>1</th>\n",
              "      <td>Sougandh_Java Fullstack Developer</td>\n",
              "      <td>dev logos\\small\\developer</td>\n",
              "      <td>sougandh.work@gmail.com</td>\n",
              "      <td>515 635 4931</td>\n",
              "      <td>['oracle', 'amazon', 'amazon elastic beanstalk...</td>\n",
              "      <td>[':', 'java 1.5/1.6/1.7/1.8', ' j2ee', ' unix ...</td>\n",
              "      <td>NaN</td>\n",
              "      <td>12.0</td>\n",
              "      <td>['full stack developer', 'locator', 'devops', ...</td>\n",
              "    </tr>\n",
              "    <tr>\n",
              "      <th>2</th>\n",
              "      <td>Jagan S Iyer PM</td>\n",
              "      <td>jagan s</td>\n",
              "      <td>jagansrconsult@gmail.com</td>\n",
              "      <td>+1 (248) 412-1658</td>\n",
              "      <td>['sun os and', '( pride technologies', 'sap fi...</td>\n",
              "      <td>['health', 'css', 'snapshot', 'scrum', 'chrysl...</td>\n",
              "      <td>['university of madras', 'central michigan uni...</td>\n",
              "      <td>21.0</td>\n",
              "      <td>['senior project manager', 'project manager', ...</td>\n",
              "    </tr>\n",
              "    <tr>\n",
              "      <th>3</th>\n",
              "      <td>Balaji Gopalakrishnan Project Manager</td>\n",
              "      <td>balaji gopalakrishnan</td>\n",
              "      <td>balajigrealtek@gmail.com</td>\n",
              "      <td>813 990 0756</td>\n",
              "      <td>['2016 till']</td>\n",
              "      <td>['hadoop/big data', 'hdfs', 'mapreduce', 'hbas...</td>\n",
              "      <td>['open university', 'annamalai university', 'i...</td>\n",
              "      <td>16.0</td>\n",
              "      <td>['it professional', 'technical project manager...</td>\n",
              "    </tr>\n",
              "    <tr>\n",
              "      <th>4</th>\n",
              "      <td>Dave</td>\n",
              "      <td>derik howarth</td>\n",
              "      <td>derik.howarth@gmail.com</td>\n",
              "      <td>NaN</td>\n",
              "      <td>['sun microsystems', 'oracle weblogic servers'...</td>\n",
              "      <td>['java 8', ' sql and pl/sql', ' html', 'xml', ...</td>\n",
              "      <td>NaN</td>\n",
              "      <td>2014.0</td>\n",
              "      <td>['java developer', 'plsql developer', 'oracle ...</td>\n",
              "    </tr>\n",
              "    <tr>\n",
              "      <th>...</th>\n",
              "      <td>...</td>\n",
              "      <td>...</td>\n",
              "      <td>...</td>\n",
              "      <td>...</td>\n",
              "      <td>...</td>\n",
              "      <td>...</td>\n",
              "      <td>...</td>\n",
              "      <td>...</td>\n",
              "      <td>...</td>\n",
              "    </tr>\n",
              "    <tr>\n",
              "      <th>222</th>\n",
              "      <td>komal patel</td>\n",
              "      <td>NaN</td>\n",
              "      <td>khushbubenv@gmail.com</td>\n",
              "      <td>518-417-1547</td>\n",
              "      <td>['oracle', 'microsoft', 'amazon', 'amazon web ...</td>\n",
              "      <td>[':: java', ' j2ee', ' sql', ' pl/sql', ' c', ...</td>\n",
              "      <td>NaN</td>\n",
              "      <td>2008.0</td>\n",
              "      <td>['full stack java developer', 'java developer'...</td>\n",
              "    </tr>\n",
              "    <tr>\n",
              "      <th>223</th>\n",
              "      <td>kalyan das</td>\n",
              "      <td>_hlk497259377]kalyan</td>\n",
              "      <td>k.kalyandass87@gmail.com</td>\n",
              "      <td>+1 (816) 945 2787</td>\n",
              "      <td>['oracle', 'amazon web services', 'amazon', 'a...</td>\n",
              "      <td>['::', 'java 1.5/1.6/1.7/1.8', ' unix shell', ...</td>\n",
              "      <td>['jawaharlal nehru technological university']</td>\n",
              "      <td>5.0</td>\n",
              "      <td>['full stack java developer', 'java developer'...</td>\n",
              "    </tr>\n",
              "    <tr>\n",
              "      <th>224</th>\n",
              "      <td>SAURABH_PM</td>\n",
              "      <td>email id</td>\n",
              "      <td>s.shidhore17@gmail.com</td>\n",
              "      <td>(682) 582-0651</td>\n",
              "      <td>['american multinational financial service cor...</td>\n",
              "      <td>['offers', 'health', 'peace', 'resolve', 'scru...</td>\n",
              "      <td>['university of mumbai']</td>\n",
              "      <td>5.0</td>\n",
              "      <td>['it project manager', 'project manager', 'qua...</td>\n",
              "    </tr>\n",
              "    <tr>\n",
              "      <th>225</th>\n",
              "      <td>Sai kumar</td>\n",
              "      <td>highlighted summary</td>\n",
              "      <td>tushar.k6@yahoo.com</td>\n",
              "      <td>3140639</td>\n",
              "      <td>NaN</td>\n",
              "      <td>['visualvm', 'css', 'serialization', 'eclipse'...</td>\n",
              "      <td>NaN</td>\n",
              "      <td>14.0</td>\n",
              "      <td>['test director', 'director', 'enterprise mana...</td>\n",
              "    </tr>\n",
              "    <tr>\n",
              "      <th>226</th>\n",
              "      <td>Sarath M</td>\n",
              "      <td>sarath kumar</td>\n",
              "      <td>sarathm.java@gmail.com</td>\n",
              "      <td>469-324-9282</td>\n",
              "      <td>['web logic', 'full stack', 'oracle']</td>\n",
              "      <td>['c', ' c++', ' java jdk1.4/1.5/1.6/1.7', ' sq...</td>\n",
              "      <td>NaN</td>\n",
              "      <td>8.0</td>\n",
              "      <td>['full stack developer', 'business objects', '...</td>\n",
              "    </tr>\n",
              "  </tbody>\n",
              "</table>\n",
              "<p>227 rows × 9 columns</p>\n",
              "</div>"
            ],
            "text/plain": [
              "                                 file_name  ...                                        designition\n",
              "0                              Mani_Hadoop  ...  ['hadoop developer', 'zookeeper', 'research sc...\n",
              "1        Sougandh_Java Fullstack Developer  ...  ['full stack developer', 'locator', 'devops', ...\n",
              "2                          Jagan S Iyer PM  ...  ['senior project manager', 'project manager', ...\n",
              "3    Balaji Gopalakrishnan Project Manager  ...  ['it professional', 'technical project manager...\n",
              "4                                     Dave  ...  ['java developer', 'plsql developer', 'oracle ...\n",
              "..                                     ...  ...                                                ...\n",
              "222                            komal patel  ...  ['full stack java developer', 'java developer'...\n",
              "223                             kalyan das  ...  ['full stack java developer', 'java developer'...\n",
              "224                             SAURABH_PM  ...  ['it project manager', 'project manager', 'qua...\n",
              "225                              Sai kumar  ...  ['test director', 'director', 'enterprise mana...\n",
              "226                               Sarath M  ...  ['full stack developer', 'business objects', '...\n",
              "\n",
              "[227 rows x 9 columns]"
            ]
          },
          "metadata": {
            "tags": []
          },
          "execution_count": 4
        }
      ]
    },
    {
      "cell_type": "code",
      "metadata": {
        "id": "TpDf9vSWTsB7"
      },
      "source": [
        "columns = dataset.columns"
      ],
      "execution_count": null,
      "outputs": []
    },
    {
      "cell_type": "markdown",
      "metadata": {
        "id": "lk88SSI6ZXBk"
      },
      "source": [
        ""
      ]
    },
    {
      "cell_type": "markdown",
      "metadata": {
        "id": "fRz86velVHzi"
      },
      "source": [
        "Steps\n",
        "- All dataset in lower case - Dataset\n",
        "- Rank all companies names from open source\n",
        "- College Ranking from open source\n",
        "- Skills Ranking | Companies required Skills\n",
        "- Designition Ranking\n",
        "- Experience Ranking\n",
        "\n",
        "\n"
      ]
    },
    {
      "cell_type": "code",
      "metadata": {
        "colab": {
          "base_uri": "https://localhost:8080/"
        },
        "id": "xoXWAp5eTu-A",
        "outputId": "8a5796b2-edf6-464c-93c0-eac456919e34"
      },
      "source": [
        "len(dataset[columns[-2]])\n",
        "dataset['experience'].isna().sum()"
      ],
      "execution_count": null,
      "outputs": [
        {
          "output_type": "execute_result",
          "data": {
            "text/plain": [
              "41"
            ]
          },
          "metadata": {
            "tags": []
          },
          "execution_count": 6
        }
      ]
    },
    {
      "cell_type": "code",
      "metadata": {
        "colab": {
          "base_uri": "https://localhost:8080/"
        },
        "id": "WGplFyc2ltXN",
        "outputId": "af8155d7-35da-41dd-a353-a03f8bf7c2f9"
      },
      "source": [
        "s = pd.Series(dataset['experience'])\n",
        "s.describe()"
      ],
      "execution_count": null,
      "outputs": [
        {
          "output_type": "execute_result",
          "data": {
            "text/plain": [
              "count     186.000000\n",
              "mean      180.279570\n",
              "std       635.325469\n",
              "min     -2016.000000\n",
              "25%         5.000000\n",
              "50%         8.000000\n",
              "75%        13.000000\n",
              "max      2020.000000\n",
              "Name: experience, dtype: float64"
            ]
          },
          "metadata": {
            "tags": []
          },
          "execution_count": 7
        }
      ]
    },
    {
      "cell_type": "markdown",
      "metadata": {
        "id": "LIJWAbX9qKXb"
      },
      "source": [
        "Remove na experience"
      ]
    },
    {
      "cell_type": "code",
      "metadata": {
        "id": "jICbsB7Xof1v"
      },
      "source": [
        "dataframe = dataset[dataset['experience'].isna() == False]"
      ],
      "execution_count": null,
      "outputs": []
    },
    {
      "cell_type": "code",
      "metadata": {
        "colab": {
          "base_uri": "https://localhost:8080/",
          "height": 725
        },
        "id": "iC-D9Fj5qlPo",
        "outputId": "eca48a28-4745-400c-b13f-42ffd9203197"
      },
      "source": [
        "dataframe"
      ],
      "execution_count": null,
      "outputs": [
        {
          "output_type": "execute_result",
          "data": {
            "text/html": [
              "<div>\n",
              "<style scoped>\n",
              "    .dataframe tbody tr th:only-of-type {\n",
              "        vertical-align: middle;\n",
              "    }\n",
              "\n",
              "    .dataframe tbody tr th {\n",
              "        vertical-align: top;\n",
              "    }\n",
              "\n",
              "    .dataframe thead th {\n",
              "        text-align: right;\n",
              "    }\n",
              "</style>\n",
              "<table border=\"1\" class=\"dataframe\">\n",
              "  <thead>\n",
              "    <tr style=\"text-align: right;\">\n",
              "      <th></th>\n",
              "      <th>file_name</th>\n",
              "      <th>name</th>\n",
              "      <th>email</th>\n",
              "      <th>phone_no</th>\n",
              "      <th>companies_worked</th>\n",
              "      <th>skills</th>\n",
              "      <th>college</th>\n",
              "      <th>experience</th>\n",
              "      <th>designition</th>\n",
              "    </tr>\n",
              "  </thead>\n",
              "  <tbody>\n",
              "    <tr>\n",
              "      <th>0</th>\n",
              "      <td>Mani_Hadoop</td>\n",
              "      <td>mani sr</td>\n",
              "      <td>vmaniv08@gmail.com</td>\n",
              "      <td>(615) 813-1551</td>\n",
              "      <td>['amazon aws', 'oracle', 'amazon']</td>\n",
              "      <td>[':', 'big data technologies', 'hadoop', ' hdf...</td>\n",
              "      <td>['national institute of technology, rourkela']</td>\n",
              "      <td>5.0</td>\n",
              "      <td>['hadoop developer', 'zookeeper', 'research sc...</td>\n",
              "    </tr>\n",
              "    <tr>\n",
              "      <th>1</th>\n",
              "      <td>Sougandh_Java Fullstack Developer</td>\n",
              "      <td>dev logos\\small\\developer</td>\n",
              "      <td>sougandh.work@gmail.com</td>\n",
              "      <td>515 635 4931</td>\n",
              "      <td>['oracle', 'amazon', 'amazon elastic beanstalk...</td>\n",
              "      <td>[':', 'java 1.5/1.6/1.7/1.8', ' j2ee', ' unix ...</td>\n",
              "      <td>NaN</td>\n",
              "      <td>12.0</td>\n",
              "      <td>['full stack developer', 'locator', 'devops', ...</td>\n",
              "    </tr>\n",
              "    <tr>\n",
              "      <th>2</th>\n",
              "      <td>Jagan S Iyer PM</td>\n",
              "      <td>jagan s</td>\n",
              "      <td>jagansrconsult@gmail.com</td>\n",
              "      <td>+1 (248) 412-1658</td>\n",
              "      <td>['sun os and', '( pride technologies', 'sap fi...</td>\n",
              "      <td>['health', 'css', 'snapshot', 'scrum', 'chrysl...</td>\n",
              "      <td>['university of madras', 'central michigan uni...</td>\n",
              "      <td>21.0</td>\n",
              "      <td>['senior project manager', 'project manager', ...</td>\n",
              "    </tr>\n",
              "    <tr>\n",
              "      <th>3</th>\n",
              "      <td>Balaji Gopalakrishnan Project Manager</td>\n",
              "      <td>balaji gopalakrishnan</td>\n",
              "      <td>balajigrealtek@gmail.com</td>\n",
              "      <td>813 990 0756</td>\n",
              "      <td>['2016 till']</td>\n",
              "      <td>['hadoop/big data', 'hdfs', 'mapreduce', 'hbas...</td>\n",
              "      <td>['open university', 'annamalai university', 'i...</td>\n",
              "      <td>16.0</td>\n",
              "      <td>['it professional', 'technical project manager...</td>\n",
              "    </tr>\n",
              "    <tr>\n",
              "      <th>4</th>\n",
              "      <td>Dave</td>\n",
              "      <td>derik howarth</td>\n",
              "      <td>derik.howarth@gmail.com</td>\n",
              "      <td>NaN</td>\n",
              "      <td>['sun microsystems', 'oracle weblogic servers'...</td>\n",
              "      <td>['java 8', ' sql and pl/sql', ' html', 'xml', ...</td>\n",
              "      <td>NaN</td>\n",
              "      <td>2014.0</td>\n",
              "      <td>['java developer', 'plsql developer', 'oracle ...</td>\n",
              "    </tr>\n",
              "    <tr>\n",
              "      <th>...</th>\n",
              "      <td>...</td>\n",
              "      <td>...</td>\n",
              "      <td>...</td>\n",
              "      <td>...</td>\n",
              "      <td>...</td>\n",
              "      <td>...</td>\n",
              "      <td>...</td>\n",
              "      <td>...</td>\n",
              "      <td>...</td>\n",
              "    </tr>\n",
              "    <tr>\n",
              "      <th>222</th>\n",
              "      <td>komal patel</td>\n",
              "      <td>NaN</td>\n",
              "      <td>khushbubenv@gmail.com</td>\n",
              "      <td>518-417-1547</td>\n",
              "      <td>['oracle', 'microsoft', 'amazon', 'amazon web ...</td>\n",
              "      <td>[':: java', ' j2ee', ' sql', ' pl/sql', ' c', ...</td>\n",
              "      <td>NaN</td>\n",
              "      <td>2008.0</td>\n",
              "      <td>['full stack java developer', 'java developer'...</td>\n",
              "    </tr>\n",
              "    <tr>\n",
              "      <th>223</th>\n",
              "      <td>kalyan das</td>\n",
              "      <td>_hlk497259377]kalyan</td>\n",
              "      <td>k.kalyandass87@gmail.com</td>\n",
              "      <td>+1 (816) 945 2787</td>\n",
              "      <td>['oracle', 'amazon web services', 'amazon', 'a...</td>\n",
              "      <td>['::', 'java 1.5/1.6/1.7/1.8', ' unix shell', ...</td>\n",
              "      <td>['jawaharlal nehru technological university']</td>\n",
              "      <td>5.0</td>\n",
              "      <td>['full stack java developer', 'java developer'...</td>\n",
              "    </tr>\n",
              "    <tr>\n",
              "      <th>224</th>\n",
              "      <td>SAURABH_PM</td>\n",
              "      <td>email id</td>\n",
              "      <td>s.shidhore17@gmail.com</td>\n",
              "      <td>(682) 582-0651</td>\n",
              "      <td>['american multinational financial service cor...</td>\n",
              "      <td>['offers', 'health', 'peace', 'resolve', 'scru...</td>\n",
              "      <td>['university of mumbai']</td>\n",
              "      <td>5.0</td>\n",
              "      <td>['it project manager', 'project manager', 'qua...</td>\n",
              "    </tr>\n",
              "    <tr>\n",
              "      <th>225</th>\n",
              "      <td>Sai kumar</td>\n",
              "      <td>highlighted summary</td>\n",
              "      <td>tushar.k6@yahoo.com</td>\n",
              "      <td>3140639</td>\n",
              "      <td>NaN</td>\n",
              "      <td>['visualvm', 'css', 'serialization', 'eclipse'...</td>\n",
              "      <td>NaN</td>\n",
              "      <td>14.0</td>\n",
              "      <td>['test director', 'director', 'enterprise mana...</td>\n",
              "    </tr>\n",
              "    <tr>\n",
              "      <th>226</th>\n",
              "      <td>Sarath M</td>\n",
              "      <td>sarath kumar</td>\n",
              "      <td>sarathm.java@gmail.com</td>\n",
              "      <td>469-324-9282</td>\n",
              "      <td>['web logic', 'full stack', 'oracle']</td>\n",
              "      <td>['c', ' c++', ' java jdk1.4/1.5/1.6/1.7', ' sq...</td>\n",
              "      <td>NaN</td>\n",
              "      <td>8.0</td>\n",
              "      <td>['full stack developer', 'business objects', '...</td>\n",
              "    </tr>\n",
              "  </tbody>\n",
              "</table>\n",
              "<p>186 rows × 9 columns</p>\n",
              "</div>"
            ],
            "text/plain": [
              "                                 file_name  ...                                        designition\n",
              "0                              Mani_Hadoop  ...  ['hadoop developer', 'zookeeper', 'research sc...\n",
              "1        Sougandh_Java Fullstack Developer  ...  ['full stack developer', 'locator', 'devops', ...\n",
              "2                          Jagan S Iyer PM  ...  ['senior project manager', 'project manager', ...\n",
              "3    Balaji Gopalakrishnan Project Manager  ...  ['it professional', 'technical project manager...\n",
              "4                                     Dave  ...  ['java developer', 'plsql developer', 'oracle ...\n",
              "..                                     ...  ...                                                ...\n",
              "222                            komal patel  ...  ['full stack java developer', 'java developer'...\n",
              "223                             kalyan das  ...  ['full stack java developer', 'java developer'...\n",
              "224                             SAURABH_PM  ...  ['it project manager', 'project manager', 'qua...\n",
              "225                              Sai kumar  ...  ['test director', 'director', 'enterprise mana...\n",
              "226                               Sarath M  ...  ['full stack developer', 'business objects', '...\n",
              "\n",
              "[186 rows x 9 columns]"
            ]
          },
          "metadata": {
            "tags": []
          },
          "execution_count": 9
        }
      ]
    },
    {
      "cell_type": "markdown",
      "metadata": {
        "id": "ME2HZUPikBlE"
      },
      "source": [
        "Remove outliers from experience"
      ]
    },
    {
      "cell_type": "code",
      "metadata": {
        "colab": {
          "base_uri": "https://localhost:8080/"
        },
        "id": "fekdTVZTrPku",
        "outputId": "0023c3a6-1d22-4a00-fff4-79fb2befae8f"
      },
      "source": [
        "dataframe['experience']"
      ],
      "execution_count": null,
      "outputs": [
        {
          "output_type": "execute_result",
          "data": {
            "text/plain": [
              "0         5.0\n",
              "1        12.0\n",
              "2        21.0\n",
              "3        16.0\n",
              "4      2014.0\n",
              "        ...  \n",
              "222    2008.0\n",
              "223       5.0\n",
              "224       5.0\n",
              "225      14.0\n",
              "226       8.0\n",
              "Name: experience, Length: 186, dtype: float64"
            ]
          },
          "metadata": {
            "tags": []
          },
          "execution_count": 10
        }
      ]
    },
    {
      "cell_type": "code",
      "metadata": {
        "colab": {
          "base_uri": "https://localhost:8080/"
        },
        "id": "nz7TLisOUar2",
        "outputId": "c8fe9219-d8b0-47b2-cffd-54d4641c5ca8"
      },
      "source": [
        "from scipy import stats\n",
        "\n",
        "z_scores = stats.zscore(dataframe['experience'])\n",
        "print(z_scores)\n",
        "z_score_abs = numpy.abs(z_scores)\n",
        "filtered_entries = (z_score_abs < 2)\n",
        "print(filtered_entries)\n",
        "filtered_dataframe = dataframe[filtered_entries == True]\n",
        "# Remove negative values\n",
        "filtered_dataframe = filtered_dataframe[filtered_dataframe['experience'] >= 0]\n",
        "# filtered_dataframe = [dataframe.iloc[i]['experience'] if exp else 0 for i, exp in enumerate(filtered_entries)]"
      ],
      "execution_count": null,
      "outputs": [
        {
          "output_type": "stream",
          "text": [
            "[-0.27663405 -0.26558634 -0.25138214 -0.25927336  2.89405957 -0.27189932\n",
            " -0.27347756 -0.28294703 -0.27505581 -0.27663405 -0.27032108 -0.27663405\n",
            " -0.27347756 -0.27347756 -0.27189932 -0.25611687 -0.27189932  2.88143361\n",
            " -0.2782123  -0.27347756 -0.26716459  2.8845901  -0.27189932 -0.28136879\n",
            " -0.2782123  -0.2640081  -0.26558634 -0.28136879 -0.25296038 -0.25296038\n",
            " -0.2782123  -0.27505581 -0.27663405 -0.26716459 -0.26874283 -0.26874283\n",
            " -0.26558634 -0.27032108 -0.27663405 -0.26716459 -0.26242985 -0.26242985\n",
            " -0.27032108 -0.26716459 -0.27189932 -0.26558634  2.87827712 -0.27663405\n",
            " -0.25138214 -0.2782123  -0.26242985 -0.26085161 -0.28136879 -0.27979054\n",
            "  2.89405957 -0.26716459 -3.45364066 -0.27663405 -0.27189932 -0.25453863\n",
            " -0.27505581 -0.2640081  -0.2782123  -0.27505581 -0.27347756 -0.27663405\n",
            " -0.27505581 -0.24980389 -0.28294703 -0.27663405 -0.2782123  -0.26242985\n",
            " -0.29715124 -0.25769512 -0.2640081  -0.25296038 -0.27505581 -0.26874283\n",
            " -0.2782123  -0.26716459  2.87985537 -0.27189932 -0.26716459 -0.27347756\n",
            " -0.28926001 -0.26558634 -0.26558634 -0.27189932 -0.27347756 -0.26558634\n",
            " -0.27032108 -0.2640081  -0.27663405 -0.27189932  2.8845901  -0.26874283\n",
            " -0.2640081  -0.28136879 -0.26558634 -0.28136879 -0.27347756 -0.27979054\n",
            " -0.2782123  -0.26558634 -0.27505581 -0.27663405 -0.27979054 -0.2782123\n",
            "  2.88301186 -0.27189932 -0.26558634 -0.26558634 -0.27032108 -0.27032108\n",
            " -0.3066207  -0.27505581 -0.26716459 -0.27663405 -0.27663405 -0.2782123\n",
            " -0.2640081  -0.27189932 -0.26716459 -0.27347756 -0.2782123   2.87985537\n",
            " -0.26716459  2.90352904 -0.26558634 -0.2782123   2.87196414 -0.27663405\n",
            " -0.2640081  -0.25927336 -0.2782123  -0.27189932 -0.27347756  2.87354239\n",
            " -0.26716459 -0.26558634 -0.27347756 -0.26558634 -0.25927336 -0.26242985\n",
            " -0.27979054 -0.27189932  2.89248132 -0.2640081  -0.26716459 -0.27032108\n",
            " -0.28294703  2.89090308 -0.27189932 -0.26874283 -0.26242985 -0.27189932\n",
            "  2.8845901  -0.27979054 -0.2782123  -0.27189932 -3.46626661 -0.27347756\n",
            " -0.2782123  -0.26242985 -0.27663405 -0.27189932 -0.27347756  2.89090308\n",
            " -0.27347756 -0.26716459 -0.25611687 -0.2640081  -0.27032108 -0.28294703\n",
            " -0.27979054  2.88143361 -0.27663405 -0.26716459 -0.27505581 -0.26242985\n",
            " -0.27505581  2.8845901  -0.27663405 -0.27663405 -0.26242985 -0.27189932]\n",
            "[ True  True  True  True False  True  True  True  True  True  True  True\n",
            "  True  True  True  True  True False  True  True  True False  True  True\n",
            "  True  True  True  True  True  True  True  True  True  True  True  True\n",
            "  True  True  True  True  True  True  True  True  True  True False  True\n",
            "  True  True  True  True  True  True False  True False  True  True  True\n",
            "  True  True  True  True  True  True  True  True  True  True  True  True\n",
            "  True  True  True  True  True  True  True  True False  True  True  True\n",
            "  True  True  True  True  True  True  True  True  True  True False  True\n",
            "  True  True  True  True  True  True  True  True  True  True  True  True\n",
            " False  True  True  True  True  True  True  True  True  True  True  True\n",
            "  True  True  True  True  True False  True False  True  True False  True\n",
            "  True  True  True  True  True False  True  True  True  True  True  True\n",
            "  True  True False  True  True  True  True False  True  True  True  True\n",
            " False  True  True  True False  True  True  True  True  True  True False\n",
            "  True  True  True  True  True  True  True False  True  True  True  True\n",
            "  True False  True  True  True  True]\n"
          ],
          "name": "stdout"
        }
      ]
    },
    {
      "cell_type": "code",
      "metadata": {
        "colab": {
          "base_uri": "https://localhost:8080/",
          "height": 810
        },
        "id": "GGXHFW6ylhE_",
        "outputId": "3f19dab3-f7ea-422a-a11d-1b46a1247b09"
      },
      "source": [
        "filtered_dataframe = filtered_dataframe.reset_index()\n",
        "filtered_dataframe = filtered_dataframe.sort_values('experience', ascending=False)\n",
        "filtered_dataframe"
      ],
      "execution_count": null,
      "outputs": [
        {
          "output_type": "execute_result",
          "data": {
            "text/html": [
              "<div>\n",
              "<style scoped>\n",
              "    .dataframe tbody tr th:only-of-type {\n",
              "        vertical-align: middle;\n",
              "    }\n",
              "\n",
              "    .dataframe tbody tr th {\n",
              "        vertical-align: top;\n",
              "    }\n",
              "\n",
              "    .dataframe thead th {\n",
              "        text-align: right;\n",
              "    }\n",
              "</style>\n",
              "<table border=\"1\" class=\"dataframe\">\n",
              "  <thead>\n",
              "    <tr style=\"text-align: right;\">\n",
              "      <th></th>\n",
              "      <th>index</th>\n",
              "      <th>file_name</th>\n",
              "      <th>name</th>\n",
              "      <th>email</th>\n",
              "      <th>phone_no</th>\n",
              "      <th>companies_worked</th>\n",
              "      <th>skills</th>\n",
              "      <th>college</th>\n",
              "      <th>experience</th>\n",
              "      <th>designition</th>\n",
              "    </tr>\n",
              "  </thead>\n",
              "  <tbody>\n",
              "    <tr>\n",
              "      <th>61</th>\n",
              "      <td>79</td>\n",
              "      <td>Othman - Project Manager</td>\n",
              "      <td>NaN</td>\n",
              "      <td>NaN</td>\n",
              "      <td>NaN</td>\n",
              "      <td>NaN</td>\n",
              "      <td>['resolve', 'scrum', 'windows 2000', 'teams', ...</td>\n",
              "      <td>['school of management', 'keller graduate scho...</td>\n",
              "      <td>22.0</td>\n",
              "      <td>['project manager', 'business development', 'i...</td>\n",
              "    </tr>\n",
              "    <tr>\n",
              "      <th>44</th>\n",
              "      <td>55</td>\n",
              "      <td>Deepika DC</td>\n",
              "      <td>NaN</td>\n",
              "      <td>chintalapatideepika@gmail.com</td>\n",
              "      <td>518-805-9569</td>\n",
              "      <td>['oracle', 'oracle databases', 'sap', 'oracle']</td>\n",
              "      <td>['health', 'ielts', 'security tools', 'teams',...</td>\n",
              "      <td>NaN</td>\n",
              "      <td>21.0</td>\n",
              "      <td>['project manager', 'oracle database administr...</td>\n",
              "    </tr>\n",
              "    <tr>\n",
              "      <th>2</th>\n",
              "      <td>2</td>\n",
              "      <td>Jagan S Iyer PM</td>\n",
              "      <td>jagan s</td>\n",
              "      <td>jagansrconsult@gmail.com</td>\n",
              "      <td>+1 (248) 412-1658</td>\n",
              "      <td>['sun os and', '( pride technologies', 'sap fi...</td>\n",
              "      <td>['health', 'css', 'snapshot', 'scrum', 'chrysl...</td>\n",
              "      <td>['university of madras', 'central michigan uni...</td>\n",
              "      <td>21.0</td>\n",
              "      <td>['senior project manager', 'project manager', ...</td>\n",
              "    </tr>\n",
              "    <tr>\n",
              "      <th>68</th>\n",
              "      <td>90</td>\n",
              "      <td>Deepika Chintalapati</td>\n",
              "      <td>NaN</td>\n",
              "      <td>chintalapatideepika@gmail.com</td>\n",
              "      <td>518-805-9569</td>\n",
              "      <td>['oracle', 'sdm', 'oracle databases']</td>\n",
              "      <td>['health', 'scrum', 'security tools', 'b2b', '...</td>\n",
              "      <td>NaN</td>\n",
              "      <td>20.0</td>\n",
              "      <td>['it project manager', 'project manager', 'ora...</td>\n",
              "    </tr>\n",
              "    <tr>\n",
              "      <th>26</th>\n",
              "      <td>34</td>\n",
              "      <td>Jennifer  M</td>\n",
              "      <td>jennifer m.</td>\n",
              "      <td>NaN</td>\n",
              "      <td>NaN</td>\n",
              "      <td>NaN</td>\n",
              "      <td>['css', 'eclipse', 'unix', 'jdk', 'web service...</td>\n",
              "      <td>['beijing union university', 'union university']</td>\n",
              "      <td>20.0</td>\n",
              "      <td>['java developer', 'java application developer...</td>\n",
              "    </tr>\n",
              "    <tr>\n",
              "      <th>...</th>\n",
              "      <td>...</td>\n",
              "      <td>...</td>\n",
              "      <td>...</td>\n",
              "      <td>...</td>\n",
              "      <td>...</td>\n",
              "      <td>...</td>\n",
              "      <td>...</td>\n",
              "      <td>...</td>\n",
              "      <td>...</td>\n",
              "      <td>...</td>\n",
              "    </tr>\n",
              "    <tr>\n",
              "      <th>87</th>\n",
              "      <td>116</td>\n",
              "      <td>Utthan Silawal12</td>\n",
              "      <td>utthan silawal</td>\n",
              "      <td>usilawal123@gmail.com</td>\n",
              "      <td>(707) 653-6269</td>\n",
              "      <td>NaN</td>\n",
              "      <td>['performance metrics', 'resolve', 'seo', 'scr...</td>\n",
              "      <td>NaN</td>\n",
              "      <td>2.0</td>\n",
              "      <td>['change management', 'business analyst', 'scr...</td>\n",
              "    </tr>\n",
              "    <tr>\n",
              "      <th>133</th>\n",
              "      <td>186</td>\n",
              "      <td>Jayadattaperi N</td>\n",
              "      <td>jayadattaperi n</td>\n",
              "      <td>jaya9.java@gmail.com</td>\n",
              "      <td>469-629-8109</td>\n",
              "      <td>['project functionalities using spring aop. · ...</td>\n",
              "      <td>[':: java8/j2ee', ' sql', ' pl/sql', ' html', ...</td>\n",
              "      <td>NaN</td>\n",
              "      <td>1.0</td>\n",
              "      <td>['deployment manager', 'sql server developer',...</td>\n",
              "    </tr>\n",
              "    <tr>\n",
              "      <th>62</th>\n",
              "      <td>80</td>\n",
              "      <td>Satish Uduta</td>\n",
              "      <td>java developer</td>\n",
              "      <td>satishkuduta@gmail.com</td>\n",
              "      <td>810-620-7820</td>\n",
              "      <td>NaN</td>\n",
              "      <td>[':', 'language', 'java 1.8', ' core java', ' ...</td>\n",
              "      <td>NaN</td>\n",
              "      <td>1.0</td>\n",
              "      <td>['java developer', 'quality assurance', 'enter...</td>\n",
              "    </tr>\n",
              "    <tr>\n",
              "      <th>6</th>\n",
              "      <td>8</td>\n",
              "      <td>Prashant Chawda_resume</td>\n",
              "      <td>prashant chawda</td>\n",
              "      <td>nagaraju@paramountsoft.net</td>\n",
              "      <td>+1-770 456 5746</td>\n",
              "      <td>NaN</td>\n",
              "      <td>[':', 'development methodologies:', 'agile', '...</td>\n",
              "      <td>['gulbarga university']</td>\n",
              "      <td>1.0</td>\n",
              "      <td>['senior project manager', 'project manager', ...</td>\n",
              "    </tr>\n",
              "    <tr>\n",
              "      <th>152</th>\n",
              "      <td>214</td>\n",
              "      <td>Rashmitha R</td>\n",
              "      <td>rashmithareddy email</td>\n",
              "      <td>rashmitha.java134@gmail.com</td>\n",
              "      <td>469-443-4710</td>\n",
              "      <td>['rashmitha.java134@gmail.com tel:', 'oracle',...</td>\n",
              "      <td>[':', 'java', ' c', ' c++', ' javascript', ' p...</td>\n",
              "      <td>['osmania university']</td>\n",
              "      <td>1.0</td>\n",
              "      <td>['sql developer', 'technology lead', 'full sta...</td>\n",
              "    </tr>\n",
              "  </tbody>\n",
              "</table>\n",
              "<p>163 rows × 10 columns</p>\n",
              "</div>"
            ],
            "text/plain": [
              "     index  ...                                        designition\n",
              "61      79  ...  ['project manager', 'business development', 'i...\n",
              "44      55  ...  ['project manager', 'oracle database administr...\n",
              "2        2  ...  ['senior project manager', 'project manager', ...\n",
              "68      90  ...  ['it project manager', 'project manager', 'ora...\n",
              "26      34  ...  ['java developer', 'java application developer...\n",
              "..     ...  ...                                                ...\n",
              "87     116  ...  ['change management', 'business analyst', 'scr...\n",
              "133    186  ...  ['deployment manager', 'sql server developer',...\n",
              "62      80  ...  ['java developer', 'quality assurance', 'enter...\n",
              "6        8  ...  ['senior project manager', 'project manager', ...\n",
              "152    214  ...  ['sql developer', 'technology lead', 'full sta...\n",
              "\n",
              "[163 rows x 10 columns]"
            ]
          },
          "metadata": {
            "tags": []
          },
          "execution_count": 12
        }
      ]
    },
    {
      "cell_type": "markdown",
      "metadata": {
        "id": "-j3K73HY6dUe"
      },
      "source": [
        "Designition\n",
        "- Count\n",
        "- Ranking words"
      ]
    },
    {
      "cell_type": "code",
      "metadata": {
        "colab": {
          "base_uri": "https://localhost:8080/"
        },
        "id": "okhNPuTkyM_z",
        "outputId": "a757600b-6f77-4bb4-baed-bdfb2112cf85"
      },
      "source": [
        "filtered_dataframe.iloc[0]['designition'][2:-2].replace(\"'\",\"\").split(\", \")"
      ],
      "execution_count": null,
      "outputs": [
        {
          "output_type": "execute_result",
          "data": {
            "text/plain": [
              "['project manager',\n",
              " 'business development',\n",
              " 'it manager',\n",
              " 'it analyst',\n",
              " 'change management',\n",
              " 'quality assurance',\n",
              " 'team lead',\n",
              " 'team member',\n",
              " 'certified scrum master',\n",
              " 'scrum master']"
            ]
          },
          "metadata": {
            "tags": []
          },
          "execution_count": 13
        }
      ]
    },
    {
      "cell_type": "code",
      "metadata": {
        "id": "0jMFQdaMtdRb"
      },
      "source": [
        "designition = [x for i in range(len(filtered_dataframe)) for x in filtered_dataframe.iloc[i]['designition'][2:-2].replace(\"'\",\"\").split(\", \")]"
      ],
      "execution_count": null,
      "outputs": []
    },
    {
      "cell_type": "code",
      "metadata": {
        "colab": {
          "base_uri": "https://localhost:8080/",
          "height": 35
        },
        "id": "sdW6Ckyiq6EI",
        "outputId": "f749785e-cf8a-40c5-b6b1-066c1d84547f"
      },
      "source": [
        "designition[100]"
      ],
      "execution_count": null,
      "outputs": [
        {
          "output_type": "execute_result",
          "data": {
            "application/vnd.google.colaboratory.intrinsic+json": {
              "type": "string"
            },
            "text/plain": [
              "'quality control'"
            ]
          },
          "metadata": {
            "tags": []
          },
          "execution_count": 15
        }
      ]
    },
    {
      "cell_type": "code",
      "metadata": {
        "colab": {
          "base_uri": "https://localhost:8080/"
        },
        "id": "nDlF1syR1ky3",
        "outputId": "b15dd26d-beaf-400a-f80b-bc5e59338c4a"
      },
      "source": [
        "designition_distinct = []\n",
        "[designition_distinct.append(x) for x in designition if x not in designition_distinct]\n",
        "len(designition_distinct)"
      ],
      "execution_count": null,
      "outputs": [
        {
          "output_type": "execute_result",
          "data": {
            "text/plain": [
              "369"
            ]
          },
          "metadata": {
            "tags": []
          },
          "execution_count": 16
        }
      ]
    },
    {
      "cell_type": "code",
      "metadata": {
        "id": "9Vs4cm0B8KHK"
      },
      "source": [
        "designition_rating = []\n",
        "for desig in designition_distinct:\n",
        "  print(desig)\n",
        "  designition_rating.append(input())"
      ],
      "execution_count": null,
      "outputs": []
    },
    {
      "cell_type": "code",
      "metadata": {
        "id": "uAeWJPai8Nih"
      },
      "source": [
        "desig_rating = {}\n",
        "for i in range(len(designition_distinct)):\n",
        "  desig_rating[designition_distinct[i]] = designition_rating[i]"
      ],
      "execution_count": null,
      "outputs": []
    },
    {
      "cell_type": "markdown",
      "metadata": {
        "id": "1i5rLnD18cZJ"
      },
      "source": [
        "Reading designition rating"
      ]
    },
    {
      "cell_type": "code",
      "metadata": {
        "id": "qHPKm-Xa8GsY"
      },
      "source": [
        "import pickle\n",
        "f = open('desig_rating.pkl','rb')\n",
        "desig_rating = pickle.load(f)\n",
        "desig_rating"
      ],
      "execution_count": null,
      "outputs": []
    },
    {
      "cell_type": "markdown",
      "metadata": {
        "id": "XVQ0V38D55t3"
      },
      "source": [
        "Rate accordingly"
      ]
    },
    {
      "cell_type": "code",
      "metadata": {
        "id": "EsccrKEP5p8B"
      },
      "source": [
        "dataframe = filtered_dataframe.reset_index()"
      ],
      "execution_count": null,
      "outputs": []
    },
    {
      "cell_type": "code",
      "metadata": {
        "id": "_gtKqonV67-s"
      },
      "source": [
        "rating_value = []\n",
        "designition_count = []\n",
        "for i in range(len(dataframe)):\n",
        "  designition = [x for x in filtered_dataframe.iloc[i]['designition'][2:-2].replace(\"'\",\"\").split(\", \")]\n",
        "  value=0\n",
        "  count=0\n",
        "  for desig in designition:\n",
        "    if desig in desig_rating.keys():\n",
        "      value+=int(desig_rating[desig])\n",
        "      count+=1\n",
        "  rating_value.append(value)\n",
        "  designition_count.append(count)"
      ],
      "execution_count": null,
      "outputs": []
    },
    {
      "cell_type": "code",
      "metadata": {
        "id": "qP2yVkgE9Aq_"
      },
      "source": [
        "dataframe['designition_rating']=rating_value\n",
        "dataframe['designition_count']=designition_count"
      ],
      "execution_count": null,
      "outputs": []
    },
    {
      "cell_type": "code",
      "metadata": {
        "colab": {
          "base_uri": "https://localhost:8080/",
          "height": 1000
        },
        "id": "q5-p5Oxn-YxP",
        "outputId": "27bb44b2-9a7f-412c-f8a7-50fea89eda36"
      },
      "source": [
        "dataframe"
      ],
      "execution_count": null,
      "outputs": [
        {
          "output_type": "execute_result",
          "data": {
            "text/html": [
              "<div>\n",
              "<style scoped>\n",
              "    .dataframe tbody tr th:only-of-type {\n",
              "        vertical-align: middle;\n",
              "    }\n",
              "\n",
              "    .dataframe tbody tr th {\n",
              "        vertical-align: top;\n",
              "    }\n",
              "\n",
              "    .dataframe thead th {\n",
              "        text-align: right;\n",
              "    }\n",
              "</style>\n",
              "<table border=\"1\" class=\"dataframe\">\n",
              "  <thead>\n",
              "    <tr style=\"text-align: right;\">\n",
              "      <th></th>\n",
              "      <th>level_0</th>\n",
              "      <th>index</th>\n",
              "      <th>file_name</th>\n",
              "      <th>name</th>\n",
              "      <th>email</th>\n",
              "      <th>phone_no</th>\n",
              "      <th>companies_worked</th>\n",
              "      <th>skills</th>\n",
              "      <th>college</th>\n",
              "      <th>experience</th>\n",
              "      <th>designition</th>\n",
              "      <th>designition_rating</th>\n",
              "      <th>designition_count</th>\n",
              "    </tr>\n",
              "  </thead>\n",
              "  <tbody>\n",
              "    <tr>\n",
              "      <th>0</th>\n",
              "      <td>61</td>\n",
              "      <td>79</td>\n",
              "      <td>Othman - Project Manager</td>\n",
              "      <td>NaN</td>\n",
              "      <td>NaN</td>\n",
              "      <td>NaN</td>\n",
              "      <td>NaN</td>\n",
              "      <td>['resolve', 'scrum', 'windows 2000', 'teams', ...</td>\n",
              "      <td>['school of management', 'keller graduate scho...</td>\n",
              "      <td>22.0</td>\n",
              "      <td>['project manager', 'business development', 'i...</td>\n",
              "      <td>35</td>\n",
              "      <td>10</td>\n",
              "    </tr>\n",
              "    <tr>\n",
              "      <th>1</th>\n",
              "      <td>44</td>\n",
              "      <td>55</td>\n",
              "      <td>Deepika DC</td>\n",
              "      <td>NaN</td>\n",
              "      <td>chintalapatideepika@gmail.com</td>\n",
              "      <td>518-805-9569</td>\n",
              "      <td>['oracle', 'oracle databases', 'sap', 'oracle']</td>\n",
              "      <td>['health', 'ielts', 'security tools', 'teams',...</td>\n",
              "      <td>NaN</td>\n",
              "      <td>21.0</td>\n",
              "      <td>['project manager', 'oracle database administr...</td>\n",
              "      <td>52</td>\n",
              "      <td>14</td>\n",
              "    </tr>\n",
              "    <tr>\n",
              "      <th>2</th>\n",
              "      <td>2</td>\n",
              "      <td>2</td>\n",
              "      <td>Jagan S Iyer PM</td>\n",
              "      <td>jagan s</td>\n",
              "      <td>jagansrconsult@gmail.com</td>\n",
              "      <td>+1 (248) 412-1658</td>\n",
              "      <td>['sun os and', '( pride technologies', 'sap fi...</td>\n",
              "      <td>['health', 'css', 'snapshot', 'scrum', 'chrysl...</td>\n",
              "      <td>['university of madras', 'central michigan uni...</td>\n",
              "      <td>21.0</td>\n",
              "      <td>['senior project manager', 'project manager', ...</td>\n",
              "      <td>44</td>\n",
              "      <td>10</td>\n",
              "    </tr>\n",
              "    <tr>\n",
              "      <th>3</th>\n",
              "      <td>68</td>\n",
              "      <td>90</td>\n",
              "      <td>Deepika Chintalapati</td>\n",
              "      <td>NaN</td>\n",
              "      <td>chintalapatideepika@gmail.com</td>\n",
              "      <td>518-805-9569</td>\n",
              "      <td>['oracle', 'sdm', 'oracle databases']</td>\n",
              "      <td>['health', 'scrum', 'security tools', 'b2b', '...</td>\n",
              "      <td>NaN</td>\n",
              "      <td>20.0</td>\n",
              "      <td>['it project manager', 'project manager', 'ora...</td>\n",
              "      <td>49</td>\n",
              "      <td>14</td>\n",
              "    </tr>\n",
              "    <tr>\n",
              "      <th>4</th>\n",
              "      <td>26</td>\n",
              "      <td>34</td>\n",
              "      <td>Jennifer  M</td>\n",
              "      <td>jennifer m.</td>\n",
              "      <td>NaN</td>\n",
              "      <td>NaN</td>\n",
              "      <td>NaN</td>\n",
              "      <td>['css', 'eclipse', 'unix', 'jdk', 'web service...</td>\n",
              "      <td>['beijing union university', 'union university']</td>\n",
              "      <td>20.0</td>\n",
              "      <td>['java developer', 'java application developer...</td>\n",
              "      <td>34</td>\n",
              "      <td>11</td>\n",
              "    </tr>\n",
              "    <tr>\n",
              "      <th>...</th>\n",
              "      <td>...</td>\n",
              "      <td>...</td>\n",
              "      <td>...</td>\n",
              "      <td>...</td>\n",
              "      <td>...</td>\n",
              "      <td>...</td>\n",
              "      <td>...</td>\n",
              "      <td>...</td>\n",
              "      <td>...</td>\n",
              "      <td>...</td>\n",
              "      <td>...</td>\n",
              "      <td>...</td>\n",
              "      <td>...</td>\n",
              "    </tr>\n",
              "    <tr>\n",
              "      <th>158</th>\n",
              "      <td>87</td>\n",
              "      <td>116</td>\n",
              "      <td>Utthan Silawal12</td>\n",
              "      <td>utthan silawal</td>\n",
              "      <td>usilawal123@gmail.com</td>\n",
              "      <td>(707) 653-6269</td>\n",
              "      <td>NaN</td>\n",
              "      <td>['performance metrics', 'resolve', 'seo', 'scr...</td>\n",
              "      <td>NaN</td>\n",
              "      <td>2.0</td>\n",
              "      <td>['change management', 'business analyst', 'scr...</td>\n",
              "      <td>44</td>\n",
              "      <td>12</td>\n",
              "    </tr>\n",
              "    <tr>\n",
              "      <th>159</th>\n",
              "      <td>133</td>\n",
              "      <td>186</td>\n",
              "      <td>Jayadattaperi N</td>\n",
              "      <td>jayadattaperi n</td>\n",
              "      <td>jaya9.java@gmail.com</td>\n",
              "      <td>469-629-8109</td>\n",
              "      <td>['project functionalities using spring aop. · ...</td>\n",
              "      <td>[':: java8/j2ee', ' sql', ' pl/sql', ' html', ...</td>\n",
              "      <td>NaN</td>\n",
              "      <td>1.0</td>\n",
              "      <td>['deployment manager', 'sql server developer',...</td>\n",
              "      <td>23</td>\n",
              "      <td>7</td>\n",
              "    </tr>\n",
              "    <tr>\n",
              "      <th>160</th>\n",
              "      <td>62</td>\n",
              "      <td>80</td>\n",
              "      <td>Satish Uduta</td>\n",
              "      <td>java developer</td>\n",
              "      <td>satishkuduta@gmail.com</td>\n",
              "      <td>810-620-7820</td>\n",
              "      <td>NaN</td>\n",
              "      <td>[':', 'language', 'java 1.8', ' core java', ' ...</td>\n",
              "      <td>NaN</td>\n",
              "      <td>1.0</td>\n",
              "      <td>['java developer', 'quality assurance', 'enter...</td>\n",
              "      <td>17</td>\n",
              "      <td>6</td>\n",
              "    </tr>\n",
              "    <tr>\n",
              "      <th>161</th>\n",
              "      <td>6</td>\n",
              "      <td>8</td>\n",
              "      <td>Prashant Chawda_resume</td>\n",
              "      <td>prashant chawda</td>\n",
              "      <td>nagaraju@paramountsoft.net</td>\n",
              "      <td>+1-770 456 5746</td>\n",
              "      <td>NaN</td>\n",
              "      <td>[':', 'development methodologies:', 'agile', '...</td>\n",
              "      <td>['gulbarga university']</td>\n",
              "      <td>1.0</td>\n",
              "      <td>['senior project manager', 'project manager', ...</td>\n",
              "      <td>73</td>\n",
              "      <td>23</td>\n",
              "    </tr>\n",
              "    <tr>\n",
              "      <th>162</th>\n",
              "      <td>152</td>\n",
              "      <td>214</td>\n",
              "      <td>Rashmitha R</td>\n",
              "      <td>rashmithareddy email</td>\n",
              "      <td>rashmitha.java134@gmail.com</td>\n",
              "      <td>469-443-4710</td>\n",
              "      <td>['rashmitha.java134@gmail.com tel:', 'oracle',...</td>\n",
              "      <td>[':', 'java', ' c', ' c++', ' javascript', ' p...</td>\n",
              "      <td>['osmania university']</td>\n",
              "      <td>1.0</td>\n",
              "      <td>['sql developer', 'technology lead', 'full sta...</td>\n",
              "      <td>21</td>\n",
              "      <td>8</td>\n",
              "    </tr>\n",
              "  </tbody>\n",
              "</table>\n",
              "<p>163 rows × 13 columns</p>\n",
              "</div>"
            ],
            "text/plain": [
              "     level_0  index  ... designition_rating designition_count\n",
              "0         61     79  ...                 35                10\n",
              "1         44     55  ...                 52                14\n",
              "2          2      2  ...                 44                10\n",
              "3         68     90  ...                 49                14\n",
              "4         26     34  ...                 34                11\n",
              "..       ...    ...  ...                ...               ...\n",
              "158       87    116  ...                 44                12\n",
              "159      133    186  ...                 23                 7\n",
              "160       62     80  ...                 17                 6\n",
              "161        6      8  ...                 73                23\n",
              "162      152    214  ...                 21                 8\n",
              "\n",
              "[163 rows x 13 columns]"
            ]
          },
          "metadata": {
            "tags": []
          },
          "execution_count": 22
        }
      ]
    },
    {
      "cell_type": "code",
      "metadata": {
        "id": "sapwpG6e-go1"
      },
      "source": [
        "skills = [x for i in range(len(dataframe)) for x in dataframe.iloc[i]['skills'][2:-2].replace(\"'\",\"\").split(\", \") if len(x) < 20]"
      ],
      "execution_count": null,
      "outputs": []
    },
    {
      "cell_type": "code",
      "metadata": {
        "id": "mgL9qGXt_-NV"
      },
      "source": [
        "skills = [skill.strip() for skill in skills]"
      ],
      "execution_count": null,
      "outputs": []
    },
    {
      "cell_type": "code",
      "metadata": {
        "id": "d_HegtVyE9V_"
      },
      "source": [
        "skills"
      ],
      "execution_count": null,
      "outputs": []
    },
    {
      "cell_type": "code",
      "metadata": {
        "colab": {
          "base_uri": "https://localhost:8080/"
        },
        "id": "nQgaR0wVAIpG",
        "outputId": "824413d0-69b4-42dd-bcb4-fb283fbcec0c"
      },
      "source": [
        "selected_skills = []\n",
        "[selected_skills.append(skill) for skill in skills if skill not in selected_skills]\n",
        "len(selected_skills)"
      ],
      "execution_count": null,
      "outputs": [
        {
          "output_type": "execute_result",
          "data": {
            "text/plain": [
              "4281"
            ]
          },
          "metadata": {
            "tags": []
          },
          "execution_count": 26
        }
      ]
    },
    {
      "cell_type": "markdown",
      "metadata": {
        "id": "k6rxvD0nNTzm"
      },
      "source": [
        "Count of selected skills in skillset"
      ]
    },
    {
      "cell_type": "code",
      "metadata": {
        "id": "xvbaws0BEfS-"
      },
      "source": [
        "skill_count = []\n",
        "for i in range(len(dataframe)):\n",
        "  skills = [x.strip() for x in dataframe.iloc[i]['skills'][2:-2].replace(\"'\",\"\").split(\", \")]\n",
        "  count=0\n",
        "  for skill in skills:\n",
        "    if skill in selected_skills:\n",
        "      count+=1\n",
        "  skill_count.append(count)"
      ],
      "execution_count": null,
      "outputs": []
    },
    {
      "cell_type": "code",
      "metadata": {
        "id": "-9_oiM63KE8g"
      },
      "source": [
        "dataframe['skill_count']=skill_count"
      ],
      "execution_count": null,
      "outputs": []
    },
    {
      "cell_type": "code",
      "metadata": {
        "colab": {
          "base_uri": "https://localhost:8080/",
          "height": 1000
        },
        "id": "Jlsm2hcdPmk3",
        "outputId": "0f17a960-8f98-4218-d830-09c3fe7ca6f3"
      },
      "source": [
        "dataframe"
      ],
      "execution_count": null,
      "outputs": [
        {
          "output_type": "execute_result",
          "data": {
            "text/html": [
              "<div>\n",
              "<style scoped>\n",
              "    .dataframe tbody tr th:only-of-type {\n",
              "        vertical-align: middle;\n",
              "    }\n",
              "\n",
              "    .dataframe tbody tr th {\n",
              "        vertical-align: top;\n",
              "    }\n",
              "\n",
              "    .dataframe thead th {\n",
              "        text-align: right;\n",
              "    }\n",
              "</style>\n",
              "<table border=\"1\" class=\"dataframe\">\n",
              "  <thead>\n",
              "    <tr style=\"text-align: right;\">\n",
              "      <th></th>\n",
              "      <th>level_0</th>\n",
              "      <th>index</th>\n",
              "      <th>file_name</th>\n",
              "      <th>name</th>\n",
              "      <th>email</th>\n",
              "      <th>phone_no</th>\n",
              "      <th>companies_worked</th>\n",
              "      <th>skills</th>\n",
              "      <th>college</th>\n",
              "      <th>experience</th>\n",
              "      <th>designition</th>\n",
              "      <th>designition_rating</th>\n",
              "      <th>designition_count</th>\n",
              "      <th>skill_count</th>\n",
              "    </tr>\n",
              "  </thead>\n",
              "  <tbody>\n",
              "    <tr>\n",
              "      <th>0</th>\n",
              "      <td>61</td>\n",
              "      <td>79</td>\n",
              "      <td>Othman - Project Manager</td>\n",
              "      <td>NaN</td>\n",
              "      <td>NaN</td>\n",
              "      <td>NaN</td>\n",
              "      <td>NaN</td>\n",
              "      <td>['resolve', 'scrum', 'windows 2000', 'teams', ...</td>\n",
              "      <td>['school of management', 'keller graduate scho...</td>\n",
              "      <td>22.0</td>\n",
              "      <td>['project manager', 'business development', 'i...</td>\n",
              "      <td>35</td>\n",
              "      <td>10</td>\n",
              "      <td>128</td>\n",
              "    </tr>\n",
              "    <tr>\n",
              "      <th>1</th>\n",
              "      <td>44</td>\n",
              "      <td>55</td>\n",
              "      <td>Deepika DC</td>\n",
              "      <td>NaN</td>\n",
              "      <td>chintalapatideepika@gmail.com</td>\n",
              "      <td>518-805-9569</td>\n",
              "      <td>['oracle', 'oracle databases', 'sap', 'oracle']</td>\n",
              "      <td>['health', 'ielts', 'security tools', 'teams',...</td>\n",
              "      <td>NaN</td>\n",
              "      <td>21.0</td>\n",
              "      <td>['project manager', 'oracle database administr...</td>\n",
              "      <td>52</td>\n",
              "      <td>14</td>\n",
              "      <td>183</td>\n",
              "    </tr>\n",
              "    <tr>\n",
              "      <th>2</th>\n",
              "      <td>2</td>\n",
              "      <td>2</td>\n",
              "      <td>Jagan S Iyer PM</td>\n",
              "      <td>jagan s</td>\n",
              "      <td>jagansrconsult@gmail.com</td>\n",
              "      <td>+1 (248) 412-1658</td>\n",
              "      <td>['sun os and', '( pride technologies', 'sap fi...</td>\n",
              "      <td>['health', 'css', 'snapshot', 'scrum', 'chrysl...</td>\n",
              "      <td>['university of madras', 'central michigan uni...</td>\n",
              "      <td>21.0</td>\n",
              "      <td>['senior project manager', 'project manager', ...</td>\n",
              "      <td>44</td>\n",
              "      <td>10</td>\n",
              "      <td>117</td>\n",
              "    </tr>\n",
              "    <tr>\n",
              "      <th>3</th>\n",
              "      <td>68</td>\n",
              "      <td>90</td>\n",
              "      <td>Deepika Chintalapati</td>\n",
              "      <td>NaN</td>\n",
              "      <td>chintalapatideepika@gmail.com</td>\n",
              "      <td>518-805-9569</td>\n",
              "      <td>['oracle', 'sdm', 'oracle databases']</td>\n",
              "      <td>['health', 'scrum', 'security tools', 'b2b', '...</td>\n",
              "      <td>NaN</td>\n",
              "      <td>20.0</td>\n",
              "      <td>['it project manager', 'project manager', 'ora...</td>\n",
              "      <td>49</td>\n",
              "      <td>14</td>\n",
              "      <td>182</td>\n",
              "    </tr>\n",
              "    <tr>\n",
              "      <th>4</th>\n",
              "      <td>26</td>\n",
              "      <td>34</td>\n",
              "      <td>Jennifer  M</td>\n",
              "      <td>jennifer m.</td>\n",
              "      <td>NaN</td>\n",
              "      <td>NaN</td>\n",
              "      <td>NaN</td>\n",
              "      <td>['css', 'eclipse', 'unix', 'jdk', 'web service...</td>\n",
              "      <td>['beijing union university', 'union university']</td>\n",
              "      <td>20.0</td>\n",
              "      <td>['java developer', 'java application developer...</td>\n",
              "      <td>34</td>\n",
              "      <td>11</td>\n",
              "      <td>108</td>\n",
              "    </tr>\n",
              "    <tr>\n",
              "      <th>...</th>\n",
              "      <td>...</td>\n",
              "      <td>...</td>\n",
              "      <td>...</td>\n",
              "      <td>...</td>\n",
              "      <td>...</td>\n",
              "      <td>...</td>\n",
              "      <td>...</td>\n",
              "      <td>...</td>\n",
              "      <td>...</td>\n",
              "      <td>...</td>\n",
              "      <td>...</td>\n",
              "      <td>...</td>\n",
              "      <td>...</td>\n",
              "      <td>...</td>\n",
              "    </tr>\n",
              "    <tr>\n",
              "      <th>158</th>\n",
              "      <td>87</td>\n",
              "      <td>116</td>\n",
              "      <td>Utthan Silawal12</td>\n",
              "      <td>utthan silawal</td>\n",
              "      <td>usilawal123@gmail.com</td>\n",
              "      <td>(707) 653-6269</td>\n",
              "      <td>NaN</td>\n",
              "      <td>['performance metrics', 'resolve', 'seo', 'scr...</td>\n",
              "      <td>NaN</td>\n",
              "      <td>2.0</td>\n",
              "      <td>['change management', 'business analyst', 'scr...</td>\n",
              "      <td>44</td>\n",
              "      <td>12</td>\n",
              "      <td>241</td>\n",
              "    </tr>\n",
              "    <tr>\n",
              "      <th>159</th>\n",
              "      <td>133</td>\n",
              "      <td>186</td>\n",
              "      <td>Jayadattaperi N</td>\n",
              "      <td>jayadattaperi n</td>\n",
              "      <td>jaya9.java@gmail.com</td>\n",
              "      <td>469-629-8109</td>\n",
              "      <td>['project functionalities using spring aop. · ...</td>\n",
              "      <td>[':: java8/j2ee', ' sql', ' pl/sql', ' html', ...</td>\n",
              "      <td>NaN</td>\n",
              "      <td>1.0</td>\n",
              "      <td>['deployment manager', 'sql server developer',...</td>\n",
              "      <td>23</td>\n",
              "      <td>7</td>\n",
              "      <td>196</td>\n",
              "    </tr>\n",
              "    <tr>\n",
              "      <th>160</th>\n",
              "      <td>62</td>\n",
              "      <td>80</td>\n",
              "      <td>Satish Uduta</td>\n",
              "      <td>java developer</td>\n",
              "      <td>satishkuduta@gmail.com</td>\n",
              "      <td>810-620-7820</td>\n",
              "      <td>NaN</td>\n",
              "      <td>[':', 'language', 'java 1.8', ' core java', ' ...</td>\n",
              "      <td>NaN</td>\n",
              "      <td>1.0</td>\n",
              "      <td>['java developer', 'quality assurance', 'enter...</td>\n",
              "      <td>17</td>\n",
              "      <td>6</td>\n",
              "      <td>48</td>\n",
              "    </tr>\n",
              "    <tr>\n",
              "      <th>161</th>\n",
              "      <td>6</td>\n",
              "      <td>8</td>\n",
              "      <td>Prashant Chawda_resume</td>\n",
              "      <td>prashant chawda</td>\n",
              "      <td>nagaraju@paramountsoft.net</td>\n",
              "      <td>+1-770 456 5746</td>\n",
              "      <td>NaN</td>\n",
              "      <td>[':', 'development methodologies:', 'agile', '...</td>\n",
              "      <td>['gulbarga university']</td>\n",
              "      <td>1.0</td>\n",
              "      <td>['senior project manager', 'project manager', ...</td>\n",
              "      <td>73</td>\n",
              "      <td>23</td>\n",
              "      <td>15</td>\n",
              "    </tr>\n",
              "    <tr>\n",
              "      <th>162</th>\n",
              "      <td>152</td>\n",
              "      <td>214</td>\n",
              "      <td>Rashmitha R</td>\n",
              "      <td>rashmithareddy email</td>\n",
              "      <td>rashmitha.java134@gmail.com</td>\n",
              "      <td>469-443-4710</td>\n",
              "      <td>['rashmitha.java134@gmail.com tel:', 'oracle',...</td>\n",
              "      <td>[':', 'java', ' c', ' c++', ' javascript', ' p...</td>\n",
              "      <td>['osmania university']</td>\n",
              "      <td>1.0</td>\n",
              "      <td>['sql developer', 'technology lead', 'full sta...</td>\n",
              "      <td>21</td>\n",
              "      <td>8</td>\n",
              "      <td>105</td>\n",
              "    </tr>\n",
              "  </tbody>\n",
              "</table>\n",
              "<p>163 rows × 14 columns</p>\n",
              "</div>"
            ],
            "text/plain": [
              "     level_0  index  ... designition_count skill_count\n",
              "0         61     79  ...                10         128\n",
              "1         44     55  ...                14         183\n",
              "2          2      2  ...                10         117\n",
              "3         68     90  ...                14         182\n",
              "4         26     34  ...                11         108\n",
              "..       ...    ...  ...               ...         ...\n",
              "158       87    116  ...                12         241\n",
              "159      133    186  ...                 7         196\n",
              "160       62     80  ...                 6          48\n",
              "161        6      8  ...                23          15\n",
              "162      152    214  ...                 8         105\n",
              "\n",
              "[163 rows x 14 columns]"
            ]
          },
          "metadata": {
            "tags": []
          },
          "execution_count": 29
        }
      ]
    },
    {
      "cell_type": "code",
      "metadata": {
        "colab": {
          "base_uri": "https://localhost:8080/"
        },
        "id": "1gkP2kKrRERv",
        "outputId": "10c2a0b2-b6e3-40e9-f52c-0bef38ed8b6a"
      },
      "source": [
        "dataframe['college'].isna().sum()"
      ],
      "execution_count": null,
      "outputs": [
        {
          "output_type": "execute_result",
          "data": {
            "text/plain": [
              "105"
            ]
          },
          "metadata": {
            "tags": []
          },
          "execution_count": 32
        }
      ]
    },
    {
      "cell_type": "code",
      "metadata": {
        "colab": {
          "base_uri": "https://localhost:8080/"
        },
        "id": "4EiKBLoKowmB",
        "outputId": "11f4e4fe-ec38-46f6-b88c-d682361e5ede"
      },
      "source": [
        "dataframe['companies_worked'].isna().sum()"
      ],
      "execution_count": null,
      "outputs": [
        {
          "output_type": "execute_result",
          "data": {
            "text/plain": [
              "35"
            ]
          },
          "metadata": {
            "tags": []
          },
          "execution_count": 33
        }
      ]
    },
    {
      "cell_type": "code",
      "metadata": {
        "colab": {
          "base_uri": "https://localhost:8080/"
        },
        "id": "1avuhXLqprfT",
        "outputId": "5b98f5d3-dd38-4654-b3eb-0fe5ab6c656d"
      },
      "source": [
        "dataframe['name'].isna().sum()"
      ],
      "execution_count": null,
      "outputs": [
        {
          "output_type": "execute_result",
          "data": {
            "text/plain": [
              "25"
            ]
          },
          "metadata": {
            "tags": []
          },
          "execution_count": 34
        }
      ]
    },
    {
      "cell_type": "code",
      "metadata": {
        "colab": {
          "base_uri": "https://localhost:8080/"
        },
        "id": "A54ukgSpp10u",
        "outputId": "7567cb61-7012-41a0-feac-66ef691152d1"
      },
      "source": [
        "dataframe['phone_no'].isna().sum()"
      ],
      "execution_count": null,
      "outputs": [
        {
          "output_type": "execute_result",
          "data": {
            "text/plain": [
              "23"
            ]
          },
          "metadata": {
            "tags": []
          },
          "execution_count": 35
        }
      ]
    },
    {
      "cell_type": "code",
      "metadata": {
        "colab": {
          "base_uri": "https://localhost:8080/"
        },
        "id": "hyw1HZ_0q0mI",
        "outputId": "4d419edb-23f4-4f89-de40-a6db2cc24a91"
      },
      "source": [
        "dataframe['email'].isna().sum()"
      ],
      "execution_count": null,
      "outputs": [
        {
          "output_type": "execute_result",
          "data": {
            "text/plain": [
              "30"
            ]
          },
          "metadata": {
            "tags": []
          },
          "execution_count": 36
        }
      ]
    },
    {
      "cell_type": "code",
      "metadata": {
        "id": "AR0a7hmdq79i"
      },
      "source": [
        "dataframe.sort_values(['experience', 'designition_rating', 'skill_count', 'designition_count'], ascending=(False, False, False, False))\n",
        "dataframe"
      ],
      "execution_count": null,
      "outputs": []
    },
    {
      "cell_type": "code",
      "metadata": {
        "colab": {
          "base_uri": "https://localhost:8080/",
          "height": 1000
        },
        "id": "ZoK5PdXixWeX",
        "outputId": "ffccbde5-9f2f-4db9-b207-28e9057fd5ce"
      },
      "source": [
        "dataframe['percentile_rank'] = dataframe.experience.rank(pct=True)\n",
        "dataframe"
      ],
      "execution_count": null,
      "outputs": [
        {
          "output_type": "execute_result",
          "data": {
            "text/html": [
              "<div>\n",
              "<style scoped>\n",
              "    .dataframe tbody tr th:only-of-type {\n",
              "        vertical-align: middle;\n",
              "    }\n",
              "\n",
              "    .dataframe tbody tr th {\n",
              "        vertical-align: top;\n",
              "    }\n",
              "\n",
              "    .dataframe thead th {\n",
              "        text-align: right;\n",
              "    }\n",
              "</style>\n",
              "<table border=\"1\" class=\"dataframe\">\n",
              "  <thead>\n",
              "    <tr style=\"text-align: right;\">\n",
              "      <th></th>\n",
              "      <th>level_0</th>\n",
              "      <th>index</th>\n",
              "      <th>file_name</th>\n",
              "      <th>name</th>\n",
              "      <th>email</th>\n",
              "      <th>phone_no</th>\n",
              "      <th>companies_worked</th>\n",
              "      <th>skills</th>\n",
              "      <th>college</th>\n",
              "      <th>experience</th>\n",
              "      <th>designition</th>\n",
              "      <th>designition_rating</th>\n",
              "      <th>designition_count</th>\n",
              "      <th>skill_count</th>\n",
              "      <th>percentile_rank</th>\n",
              "    </tr>\n",
              "  </thead>\n",
              "  <tbody>\n",
              "    <tr>\n",
              "      <th>0</th>\n",
              "      <td>61</td>\n",
              "      <td>79</td>\n",
              "      <td>Othman - Project Manager</td>\n",
              "      <td>NaN</td>\n",
              "      <td>NaN</td>\n",
              "      <td>NaN</td>\n",
              "      <td>NaN</td>\n",
              "      <td>['resolve', 'scrum', 'windows 2000', 'teams', ...</td>\n",
              "      <td>['school of management', 'keller graduate scho...</td>\n",
              "      <td>22.0</td>\n",
              "      <td>['project manager', 'business development', 'i...</td>\n",
              "      <td>35</td>\n",
              "      <td>10</td>\n",
              "      <td>128</td>\n",
              "      <td>1.000000</td>\n",
              "    </tr>\n",
              "    <tr>\n",
              "      <th>1</th>\n",
              "      <td>44</td>\n",
              "      <td>55</td>\n",
              "      <td>Deepika DC</td>\n",
              "      <td>NaN</td>\n",
              "      <td>chintalapatideepika@gmail.com</td>\n",
              "      <td>518-805-9569</td>\n",
              "      <td>['oracle', 'oracle databases', 'sap', 'oracle']</td>\n",
              "      <td>['health', 'ielts', 'security tools', 'teams',...</td>\n",
              "      <td>NaN</td>\n",
              "      <td>21.0</td>\n",
              "      <td>['project manager', 'oracle database administr...</td>\n",
              "      <td>52</td>\n",
              "      <td>14</td>\n",
              "      <td>183</td>\n",
              "      <td>0.990798</td>\n",
              "    </tr>\n",
              "    <tr>\n",
              "      <th>2</th>\n",
              "      <td>2</td>\n",
              "      <td>2</td>\n",
              "      <td>Jagan S Iyer PM</td>\n",
              "      <td>jagan s</td>\n",
              "      <td>jagansrconsult@gmail.com</td>\n",
              "      <td>+1 (248) 412-1658</td>\n",
              "      <td>['sun os and', '( pride technologies', 'sap fi...</td>\n",
              "      <td>['health', 'css', 'snapshot', 'scrum', 'chrysl...</td>\n",
              "      <td>['university of madras', 'central michigan uni...</td>\n",
              "      <td>21.0</td>\n",
              "      <td>['senior project manager', 'project manager', ...</td>\n",
              "      <td>44</td>\n",
              "      <td>10</td>\n",
              "      <td>117</td>\n",
              "      <td>0.990798</td>\n",
              "    </tr>\n",
              "    <tr>\n",
              "      <th>3</th>\n",
              "      <td>68</td>\n",
              "      <td>90</td>\n",
              "      <td>Deepika Chintalapati</td>\n",
              "      <td>NaN</td>\n",
              "      <td>chintalapatideepika@gmail.com</td>\n",
              "      <td>518-805-9569</td>\n",
              "      <td>['oracle', 'sdm', 'oracle databases']</td>\n",
              "      <td>['health', 'scrum', 'security tools', 'b2b', '...</td>\n",
              "      <td>NaN</td>\n",
              "      <td>20.0</td>\n",
              "      <td>['it project manager', 'project manager', 'ora...</td>\n",
              "      <td>49</td>\n",
              "      <td>14</td>\n",
              "      <td>182</td>\n",
              "      <td>0.975460</td>\n",
              "    </tr>\n",
              "    <tr>\n",
              "      <th>4</th>\n",
              "      <td>26</td>\n",
              "      <td>34</td>\n",
              "      <td>Jennifer  M</td>\n",
              "      <td>jennifer m.</td>\n",
              "      <td>NaN</td>\n",
              "      <td>NaN</td>\n",
              "      <td>NaN</td>\n",
              "      <td>['css', 'eclipse', 'unix', 'jdk', 'web service...</td>\n",
              "      <td>['beijing union university', 'union university']</td>\n",
              "      <td>20.0</td>\n",
              "      <td>['java developer', 'java application developer...</td>\n",
              "      <td>34</td>\n",
              "      <td>11</td>\n",
              "      <td>108</td>\n",
              "      <td>0.975460</td>\n",
              "    </tr>\n",
              "    <tr>\n",
              "      <th>...</th>\n",
              "      <td>...</td>\n",
              "      <td>...</td>\n",
              "      <td>...</td>\n",
              "      <td>...</td>\n",
              "      <td>...</td>\n",
              "      <td>...</td>\n",
              "      <td>...</td>\n",
              "      <td>...</td>\n",
              "      <td>...</td>\n",
              "      <td>...</td>\n",
              "      <td>...</td>\n",
              "      <td>...</td>\n",
              "      <td>...</td>\n",
              "      <td>...</td>\n",
              "      <td>...</td>\n",
              "    </tr>\n",
              "    <tr>\n",
              "      <th>158</th>\n",
              "      <td>87</td>\n",
              "      <td>116</td>\n",
              "      <td>Utthan Silawal12</td>\n",
              "      <td>utthan silawal</td>\n",
              "      <td>usilawal123@gmail.com</td>\n",
              "      <td>(707) 653-6269</td>\n",
              "      <td>NaN</td>\n",
              "      <td>['performance metrics', 'resolve', 'seo', 'scr...</td>\n",
              "      <td>NaN</td>\n",
              "      <td>2.0</td>\n",
              "      <td>['change management', 'business analyst', 'scr...</td>\n",
              "      <td>44</td>\n",
              "      <td>12</td>\n",
              "      <td>241</td>\n",
              "      <td>0.042945</td>\n",
              "    </tr>\n",
              "    <tr>\n",
              "      <th>159</th>\n",
              "      <td>133</td>\n",
              "      <td>186</td>\n",
              "      <td>Jayadattaperi N</td>\n",
              "      <td>jayadattaperi n</td>\n",
              "      <td>jaya9.java@gmail.com</td>\n",
              "      <td>469-629-8109</td>\n",
              "      <td>['project functionalities using spring aop. · ...</td>\n",
              "      <td>[':: java8/j2ee', ' sql', ' pl/sql', ' html', ...</td>\n",
              "      <td>NaN</td>\n",
              "      <td>1.0</td>\n",
              "      <td>['deployment manager', 'sql server developer',...</td>\n",
              "      <td>23</td>\n",
              "      <td>7</td>\n",
              "      <td>196</td>\n",
              "      <td>0.015337</td>\n",
              "    </tr>\n",
              "    <tr>\n",
              "      <th>160</th>\n",
              "      <td>62</td>\n",
              "      <td>80</td>\n",
              "      <td>Satish Uduta</td>\n",
              "      <td>java developer</td>\n",
              "      <td>satishkuduta@gmail.com</td>\n",
              "      <td>810-620-7820</td>\n",
              "      <td>NaN</td>\n",
              "      <td>[':', 'language', 'java 1.8', ' core java', ' ...</td>\n",
              "      <td>NaN</td>\n",
              "      <td>1.0</td>\n",
              "      <td>['java developer', 'quality assurance', 'enter...</td>\n",
              "      <td>17</td>\n",
              "      <td>6</td>\n",
              "      <td>48</td>\n",
              "      <td>0.015337</td>\n",
              "    </tr>\n",
              "    <tr>\n",
              "      <th>161</th>\n",
              "      <td>6</td>\n",
              "      <td>8</td>\n",
              "      <td>Prashant Chawda_resume</td>\n",
              "      <td>prashant chawda</td>\n",
              "      <td>nagaraju@paramountsoft.net</td>\n",
              "      <td>+1-770 456 5746</td>\n",
              "      <td>NaN</td>\n",
              "      <td>[':', 'development methodologies:', 'agile', '...</td>\n",
              "      <td>['gulbarga university']</td>\n",
              "      <td>1.0</td>\n",
              "      <td>['senior project manager', 'project manager', ...</td>\n",
              "      <td>73</td>\n",
              "      <td>23</td>\n",
              "      <td>15</td>\n",
              "      <td>0.015337</td>\n",
              "    </tr>\n",
              "    <tr>\n",
              "      <th>162</th>\n",
              "      <td>152</td>\n",
              "      <td>214</td>\n",
              "      <td>Rashmitha R</td>\n",
              "      <td>rashmithareddy email</td>\n",
              "      <td>rashmitha.java134@gmail.com</td>\n",
              "      <td>469-443-4710</td>\n",
              "      <td>['rashmitha.java134@gmail.com tel:', 'oracle',...</td>\n",
              "      <td>[':', 'java', ' c', ' c++', ' javascript', ' p...</td>\n",
              "      <td>['osmania university']</td>\n",
              "      <td>1.0</td>\n",
              "      <td>['sql developer', 'technology lead', 'full sta...</td>\n",
              "      <td>21</td>\n",
              "      <td>8</td>\n",
              "      <td>105</td>\n",
              "      <td>0.015337</td>\n",
              "    </tr>\n",
              "  </tbody>\n",
              "</table>\n",
              "<p>163 rows × 15 columns</p>\n",
              "</div>"
            ],
            "text/plain": [
              "     level_0  index  ... skill_count percentile_rank\n",
              "0         61     79  ...         128        1.000000\n",
              "1         44     55  ...         183        0.990798\n",
              "2          2      2  ...         117        0.990798\n",
              "3         68     90  ...         182        0.975460\n",
              "4         26     34  ...         108        0.975460\n",
              "..       ...    ...  ...         ...             ...\n",
              "158       87    116  ...         241        0.042945\n",
              "159      133    186  ...         196        0.015337\n",
              "160       62     80  ...          48        0.015337\n",
              "161        6      8  ...          15        0.015337\n",
              "162      152    214  ...         105        0.015337\n",
              "\n",
              "[163 rows x 15 columns]"
            ]
          },
          "metadata": {
            "tags": []
          },
          "execution_count": 39
        }
      ]
    },
    {
      "cell_type": "code",
      "metadata": {
        "id": "CTysQ0-BXaXd"
      },
      "source": [
        "dataframe['percentile_rank']"
      ],
      "execution_count": null,
      "outputs": []
    },
    {
      "cell_type": "code",
      "metadata": {
        "id": "ZzVbNVkwVpQS"
      },
      "source": [
        "dataframe['percentile_rank'] = dataframe['percentile_rank']*5\n",
        "dataframe['percentile_rank'] = dataframe['percentile_rank'].apply(numpy.ceil)"
      ],
      "execution_count": null,
      "outputs": []
    },
    {
      "cell_type": "code",
      "metadata": {
        "colab": {
          "base_uri": "https://localhost:8080/",
          "height": 1000
        },
        "id": "LW0q0HKQVvdg",
        "outputId": "52469a29-dcd9-42bd-f186-4c4b5031529b"
      },
      "source": [
        "dataframe"
      ],
      "execution_count": null,
      "outputs": [
        {
          "output_type": "execute_result",
          "data": {
            "text/html": [
              "<div>\n",
              "<style scoped>\n",
              "    .dataframe tbody tr th:only-of-type {\n",
              "        vertical-align: middle;\n",
              "    }\n",
              "\n",
              "    .dataframe tbody tr th {\n",
              "        vertical-align: top;\n",
              "    }\n",
              "\n",
              "    .dataframe thead th {\n",
              "        text-align: right;\n",
              "    }\n",
              "</style>\n",
              "<table border=\"1\" class=\"dataframe\">\n",
              "  <thead>\n",
              "    <tr style=\"text-align: right;\">\n",
              "      <th></th>\n",
              "      <th>level_0</th>\n",
              "      <th>index</th>\n",
              "      <th>file_name</th>\n",
              "      <th>name</th>\n",
              "      <th>email</th>\n",
              "      <th>phone_no</th>\n",
              "      <th>companies_worked</th>\n",
              "      <th>skills</th>\n",
              "      <th>college</th>\n",
              "      <th>experience</th>\n",
              "      <th>designition</th>\n",
              "      <th>designition_rating</th>\n",
              "      <th>designition_count</th>\n",
              "      <th>skill_count</th>\n",
              "      <th>percentile_rank</th>\n",
              "    </tr>\n",
              "  </thead>\n",
              "  <tbody>\n",
              "    <tr>\n",
              "      <th>0</th>\n",
              "      <td>61</td>\n",
              "      <td>79</td>\n",
              "      <td>Othman - Project Manager</td>\n",
              "      <td>NaN</td>\n",
              "      <td>NaN</td>\n",
              "      <td>NaN</td>\n",
              "      <td>NaN</td>\n",
              "      <td>['resolve', 'scrum', 'windows 2000', 'teams', ...</td>\n",
              "      <td>['school of management', 'keller graduate scho...</td>\n",
              "      <td>22.0</td>\n",
              "      <td>['project manager', 'business development', 'i...</td>\n",
              "      <td>35</td>\n",
              "      <td>10</td>\n",
              "      <td>128</td>\n",
              "      <td>5.0</td>\n",
              "    </tr>\n",
              "    <tr>\n",
              "      <th>1</th>\n",
              "      <td>44</td>\n",
              "      <td>55</td>\n",
              "      <td>Deepika DC</td>\n",
              "      <td>NaN</td>\n",
              "      <td>chintalapatideepika@gmail.com</td>\n",
              "      <td>518-805-9569</td>\n",
              "      <td>['oracle', 'oracle databases', 'sap', 'oracle']</td>\n",
              "      <td>['health', 'ielts', 'security tools', 'teams',...</td>\n",
              "      <td>NaN</td>\n",
              "      <td>21.0</td>\n",
              "      <td>['project manager', 'oracle database administr...</td>\n",
              "      <td>52</td>\n",
              "      <td>14</td>\n",
              "      <td>183</td>\n",
              "      <td>5.0</td>\n",
              "    </tr>\n",
              "    <tr>\n",
              "      <th>2</th>\n",
              "      <td>2</td>\n",
              "      <td>2</td>\n",
              "      <td>Jagan S Iyer PM</td>\n",
              "      <td>jagan s</td>\n",
              "      <td>jagansrconsult@gmail.com</td>\n",
              "      <td>+1 (248) 412-1658</td>\n",
              "      <td>['sun os and', '( pride technologies', 'sap fi...</td>\n",
              "      <td>['health', 'css', 'snapshot', 'scrum', 'chrysl...</td>\n",
              "      <td>['university of madras', 'central michigan uni...</td>\n",
              "      <td>21.0</td>\n",
              "      <td>['senior project manager', 'project manager', ...</td>\n",
              "      <td>44</td>\n",
              "      <td>10</td>\n",
              "      <td>117</td>\n",
              "      <td>5.0</td>\n",
              "    </tr>\n",
              "    <tr>\n",
              "      <th>3</th>\n",
              "      <td>68</td>\n",
              "      <td>90</td>\n",
              "      <td>Deepika Chintalapati</td>\n",
              "      <td>NaN</td>\n",
              "      <td>chintalapatideepika@gmail.com</td>\n",
              "      <td>518-805-9569</td>\n",
              "      <td>['oracle', 'sdm', 'oracle databases']</td>\n",
              "      <td>['health', 'scrum', 'security tools', 'b2b', '...</td>\n",
              "      <td>NaN</td>\n",
              "      <td>20.0</td>\n",
              "      <td>['it project manager', 'project manager', 'ora...</td>\n",
              "      <td>49</td>\n",
              "      <td>14</td>\n",
              "      <td>182</td>\n",
              "      <td>5.0</td>\n",
              "    </tr>\n",
              "    <tr>\n",
              "      <th>4</th>\n",
              "      <td>26</td>\n",
              "      <td>34</td>\n",
              "      <td>Jennifer  M</td>\n",
              "      <td>jennifer m.</td>\n",
              "      <td>NaN</td>\n",
              "      <td>NaN</td>\n",
              "      <td>NaN</td>\n",
              "      <td>['css', 'eclipse', 'unix', 'jdk', 'web service...</td>\n",
              "      <td>['beijing union university', 'union university']</td>\n",
              "      <td>20.0</td>\n",
              "      <td>['java developer', 'java application developer...</td>\n",
              "      <td>34</td>\n",
              "      <td>11</td>\n",
              "      <td>108</td>\n",
              "      <td>5.0</td>\n",
              "    </tr>\n",
              "    <tr>\n",
              "      <th>...</th>\n",
              "      <td>...</td>\n",
              "      <td>...</td>\n",
              "      <td>...</td>\n",
              "      <td>...</td>\n",
              "      <td>...</td>\n",
              "      <td>...</td>\n",
              "      <td>...</td>\n",
              "      <td>...</td>\n",
              "      <td>...</td>\n",
              "      <td>...</td>\n",
              "      <td>...</td>\n",
              "      <td>...</td>\n",
              "      <td>...</td>\n",
              "      <td>...</td>\n",
              "      <td>...</td>\n",
              "    </tr>\n",
              "    <tr>\n",
              "      <th>158</th>\n",
              "      <td>87</td>\n",
              "      <td>116</td>\n",
              "      <td>Utthan Silawal12</td>\n",
              "      <td>utthan silawal</td>\n",
              "      <td>usilawal123@gmail.com</td>\n",
              "      <td>(707) 653-6269</td>\n",
              "      <td>NaN</td>\n",
              "      <td>['performance metrics', 'resolve', 'seo', 'scr...</td>\n",
              "      <td>NaN</td>\n",
              "      <td>2.0</td>\n",
              "      <td>['change management', 'business analyst', 'scr...</td>\n",
              "      <td>44</td>\n",
              "      <td>12</td>\n",
              "      <td>241</td>\n",
              "      <td>1.0</td>\n",
              "    </tr>\n",
              "    <tr>\n",
              "      <th>159</th>\n",
              "      <td>133</td>\n",
              "      <td>186</td>\n",
              "      <td>Jayadattaperi N</td>\n",
              "      <td>jayadattaperi n</td>\n",
              "      <td>jaya9.java@gmail.com</td>\n",
              "      <td>469-629-8109</td>\n",
              "      <td>['project functionalities using spring aop. · ...</td>\n",
              "      <td>[':: java8/j2ee', ' sql', ' pl/sql', ' html', ...</td>\n",
              "      <td>NaN</td>\n",
              "      <td>1.0</td>\n",
              "      <td>['deployment manager', 'sql server developer',...</td>\n",
              "      <td>23</td>\n",
              "      <td>7</td>\n",
              "      <td>196</td>\n",
              "      <td>1.0</td>\n",
              "    </tr>\n",
              "    <tr>\n",
              "      <th>160</th>\n",
              "      <td>62</td>\n",
              "      <td>80</td>\n",
              "      <td>Satish Uduta</td>\n",
              "      <td>java developer</td>\n",
              "      <td>satishkuduta@gmail.com</td>\n",
              "      <td>810-620-7820</td>\n",
              "      <td>NaN</td>\n",
              "      <td>[':', 'language', 'java 1.8', ' core java', ' ...</td>\n",
              "      <td>NaN</td>\n",
              "      <td>1.0</td>\n",
              "      <td>['java developer', 'quality assurance', 'enter...</td>\n",
              "      <td>17</td>\n",
              "      <td>6</td>\n",
              "      <td>48</td>\n",
              "      <td>1.0</td>\n",
              "    </tr>\n",
              "    <tr>\n",
              "      <th>161</th>\n",
              "      <td>6</td>\n",
              "      <td>8</td>\n",
              "      <td>Prashant Chawda_resume</td>\n",
              "      <td>prashant chawda</td>\n",
              "      <td>nagaraju@paramountsoft.net</td>\n",
              "      <td>+1-770 456 5746</td>\n",
              "      <td>NaN</td>\n",
              "      <td>[':', 'development methodologies:', 'agile', '...</td>\n",
              "      <td>['gulbarga university']</td>\n",
              "      <td>1.0</td>\n",
              "      <td>['senior project manager', 'project manager', ...</td>\n",
              "      <td>73</td>\n",
              "      <td>23</td>\n",
              "      <td>15</td>\n",
              "      <td>1.0</td>\n",
              "    </tr>\n",
              "    <tr>\n",
              "      <th>162</th>\n",
              "      <td>152</td>\n",
              "      <td>214</td>\n",
              "      <td>Rashmitha R</td>\n",
              "      <td>rashmithareddy email</td>\n",
              "      <td>rashmitha.java134@gmail.com</td>\n",
              "      <td>469-443-4710</td>\n",
              "      <td>['rashmitha.java134@gmail.com tel:', 'oracle',...</td>\n",
              "      <td>[':', 'java', ' c', ' c++', ' javascript', ' p...</td>\n",
              "      <td>['osmania university']</td>\n",
              "      <td>1.0</td>\n",
              "      <td>['sql developer', 'technology lead', 'full sta...</td>\n",
              "      <td>21</td>\n",
              "      <td>8</td>\n",
              "      <td>105</td>\n",
              "      <td>1.0</td>\n",
              "    </tr>\n",
              "  </tbody>\n",
              "</table>\n",
              "<p>163 rows × 15 columns</p>\n",
              "</div>"
            ],
            "text/plain": [
              "     level_0  index  ... skill_count percentile_rank\n",
              "0         61     79  ...         128             5.0\n",
              "1         44     55  ...         183             5.0\n",
              "2          2      2  ...         117             5.0\n",
              "3         68     90  ...         182             5.0\n",
              "4         26     34  ...         108             5.0\n",
              "..       ...    ...  ...         ...             ...\n",
              "158       87    116  ...         241             1.0\n",
              "159      133    186  ...         196             1.0\n",
              "160       62     80  ...          48             1.0\n",
              "161        6      8  ...          15             1.0\n",
              "162      152    214  ...         105             1.0\n",
              "\n",
              "[163 rows x 15 columns]"
            ]
          },
          "metadata": {
            "tags": []
          },
          "execution_count": 41
        }
      ]
    },
    {
      "cell_type": "code",
      "metadata": {
        "id": "_Pbtdb3BZpiL"
      },
      "source": [
        "dataset = dataframe[['experience', 'designition_rating', 'designition_count', 'skill_count', 'percentile_rank']]"
      ],
      "execution_count": null,
      "outputs": []
    },
    {
      "cell_type": "code",
      "metadata": {
        "id": "CipZxUq7af87"
      },
      "source": [
        "X = dataset.drop('percentile_rank', axis=1)\n",
        "y = dataset['percentile_rank']"
      ],
      "execution_count": null,
      "outputs": []
    },
    {
      "cell_type": "code",
      "metadata": {
        "colab": {
          "base_uri": "https://localhost:8080/"
        },
        "id": "YgTsii2Vas4I",
        "outputId": "d1e14c8c-4ff8-4876-e7b9-ec6bd9933409"
      },
      "source": [
        "from sklearn.model_selection import train_test_split\n",
        "X_train, X_test, y_train, y_test = train_test_split(X, y, test_size=0.2, random_state=42)\n",
        "X_train.shape, y_train.shape"
      ],
      "execution_count": null,
      "outputs": [
        {
          "output_type": "execute_result",
          "data": {
            "text/plain": [
              "((130, 4), (130,))"
            ]
          },
          "metadata": {
            "tags": []
          },
          "execution_count": 54
        }
      ]
    },
    {
      "cell_type": "code",
      "metadata": {
        "id": "kpPxE-XrcWb_"
      },
      "source": [
        "from sklearn.linear_model import LinearRegression\n",
        "lr = LinearRegression().fit(X_train, y_train)\n",
        "predict = lr.predict(X_test)"
      ],
      "execution_count": null,
      "outputs": []
    },
    {
      "cell_type": "markdown",
      "metadata": {
        "id": "skoSEFhQw4-p"
      },
      "source": [
        "Feature Importance"
      ]
    },
    {
      "cell_type": "code",
      "metadata": {
        "colab": {
          "base_uri": "https://localhost:8080/"
        },
        "id": "k98cR1Ifw4oo",
        "outputId": "fe3d227e-1589-4831-b34a-b40fbf452ebd"
      },
      "source": [
        "importance = lr.coef_\n",
        "for i,v in enumerate(importance):\n",
        "  print('Feature %0d, Score %.5f' % (i,v))"
      ],
      "execution_count": null,
      "outputs": [
        {
          "output_type": "stream",
          "text": [
            "Feature 0, Score 0.26974\n",
            "Feature 1, Score 0.00280\n",
            "Feature 2, Score -0.02863\n",
            "Feature 3, Score -0.00106\n"
          ],
          "name": "stdout"
        }
      ]
    },
    {
      "cell_type": "code",
      "metadata": {
        "colab": {
          "base_uri": "https://localhost:8080/"
        },
        "id": "N_OAEx3xdtXZ",
        "outputId": "9ff397bd-d3f7-44d0-fbdb-a3348403ae26"
      },
      "source": [
        "lr.score(X, y)"
      ],
      "execution_count": null,
      "outputs": [
        {
          "output_type": "execute_result",
          "data": {
            "text/plain": [
              "0.8786072022479279"
            ]
          },
          "metadata": {
            "tags": []
          },
          "execution_count": 62
        }
      ]
    },
    {
      "cell_type": "code",
      "metadata": {
        "id": "H-fO2aO_sOKX"
      },
      "source": [
        "import pickle\n",
        "with open('linear_regressor.pkl','wb') as f:\n",
        "  pickle.dump(lr, f)"
      ],
      "execution_count": null,
      "outputs": []
    },
    {
      "cell_type": "code",
      "metadata": {
        "colab": {
          "base_uri": "https://localhost:8080/"
        },
        "id": "85UOeN_-cYWQ",
        "outputId": "26d124ec-5d49-4d2c-b3cf-d2eac2615545"
      },
      "source": [
        "from sklearn.metrics import mean_absolute_error\n",
        "mean_absolute_error(predict, y_test)"
      ],
      "execution_count": null,
      "outputs": [
        {
          "output_type": "execute_result",
          "data": {
            "text/plain": [
              "0.43956186383826"
            ]
          },
          "metadata": {
            "tags": []
          },
          "execution_count": 60
        }
      ]
    },
    {
      "cell_type": "code",
      "metadata": {
        "colab": {
          "base_uri": "https://localhost:8080/"
        },
        "id": "zSEIs9NPdEJQ",
        "outputId": "cce4ca6a-164a-41db-e40f-b7d82640872e"
      },
      "source": [
        "ceil_value = numpy.ceil(predict)\n",
        "ceil_value = numpy.where(ceil_value > 5, 5, ceil_value)\n",
        "ceil_value = numpy.where(ceil_value < 1, 1, ceil_value)"
      ],
      "execution_count": null,
      "outputs": [
        {
          "output_type": "execute_result",
          "data": {
            "text/plain": [
              "0.7575757575757576"
            ]
          },
          "metadata": {
            "tags": []
          },
          "execution_count": 64
        }
      ]
    },
    {
      "cell_type": "code",
      "metadata": {
        "colab": {
          "base_uri": "https://localhost:8080/"
        },
        "id": "5QHiOKDUdavH",
        "outputId": "cacd1353-f841-4a53-8615-1d589d9b1502"
      },
      "source": [
        "from sklearn.metrics import classification_report\n",
        "print(classification_report(y_test, ceil_value))"
      ],
      "execution_count": null,
      "outputs": [
        {
          "output_type": "stream",
          "text": [
            "              precision    recall  f1-score   support\n",
            "\n",
            "         1.0       1.00      0.25      0.40         8\n",
            "         2.0       0.25      0.50      0.33         4\n",
            "         3.0       0.78      1.00      0.88         7\n",
            "         4.0       1.00      1.00      1.00         4\n",
            "         5.0       1.00      1.00      1.00        10\n",
            "\n",
            "    accuracy                           0.76        33\n",
            "   macro avg       0.81      0.75      0.72        33\n",
            "weighted avg       0.86      0.76      0.75        33\n",
            "\n"
          ],
          "name": "stdout"
        }
      ]
    },
    {
      "cell_type": "code",
      "metadata": {
        "colab": {
          "base_uri": "https://localhost:8080/"
        },
        "id": "_FttH_8Sg8xx",
        "outputId": "325e2bf1-6f85-471a-faaa-1bbc32dc8a3d"
      },
      "source": [
        "from sklearn.metrics import confusion_matrix\n",
        "print(confusion_matrix(y_test, ceil_value))"
      ],
      "execution_count": null,
      "outputs": [
        {
          "output_type": "stream",
          "text": [
            "[[ 2  6  0  0  0]\n",
            " [ 0  2  2  0  0]\n",
            " [ 0  0  7  0  0]\n",
            " [ 0  0  0  4  0]\n",
            " [ 0  0  0  0 10]]\n"
          ],
          "name": "stdout"
        }
      ]
    },
    {
      "cell_type": "code",
      "metadata": {
        "id": "UHKXo28yqYve"
      },
      "source": [
        ""
      ],
      "execution_count": null,
      "outputs": []
    }
  ]
}